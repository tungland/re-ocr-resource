{
 "cells": [
  {
   "cell_type": "code",
   "execution_count": 6,
   "metadata": {},
   "outputs": [],
   "source": [
    "from re_ocr_resource.config import txt_files_path\n",
    "from glob import glob \n",
    "import os\n",
    "import re\n",
    "import json\n",
    "import pandas as pd\n",
    "import numpy as np\n",
    "from tqdm.notebook import tqdm\n",
    "from tqdm.contrib.concurrent import process_map\n",
    "\n",
    "import requests\n",
    "\n",
    "api_base_path = \"https://api.nb.no/catalog/v1/items/{}?fields=accessInfo&expand=false\"\n",
    "\n",
    "\n",
    "def check_urn(urn_to_check: str) -> bool | dict:\n",
    "    \"\"\"Check if a text is free to use.\n",
    "\n",
    "    Args:\n",
    "        urn_to_check (str): National library text id (urn) to check\n",
    "\n",
    "    Returns:\n",
    "        bool: True if the text is free to use\n",
    "    \"\"\"\n",
    "    response = requests.get(api_base_path.format(urn_to_check))\n",
    "    if response.status_code == 200:\n",
    "        return response.json()[\"accessInfo\"][\"isPublicDomain\"]\n",
    "    else:\n",
    "        return {\"error\" : f\"Could not find urn {urn_to_check}\"}\n"
   ]
  },
  {
   "cell_type": "code",
   "execution_count": null,
   "metadata": {},
   "outputs": [],
   "source": [
    "\n",
    "def get_JSON(urn_to_check: str) -> dict:\n",
    "    response = requests.get(api_base_path.format(urn_to_check))\n",
    "    if response.status_code == 200:\n",
    "        return response.json()\n",
    "    else:\n",
    "        return {\"error\" : f\"Could not find urn {urn_to_check}\"}\n",
    "    \n",
    "books = txt_files_path.glob(\"*/\")\n",
    "\n",
    "urns = [\"URN:NBN:\" + os.path.basename(book) for book in books]\n",
    "    \n",
    "# for urn in tqdm(urns):\n",
    "#     jsons = get_JSON(urn)\n",
    "    "
   ]
  },
  {
   "cell_type": "code",
   "execution_count": 8,
   "metadata": {},
   "outputs": [
    {
     "data": {
      "application/vnd.jupyter.widget-view+json": {
       "model_id": "ef49fe09137f409aba97fc0b640dc9e3",
       "version_major": 2,
       "version_minor": 0
      },
      "text/plain": [
       "  0%|          | 0/24259 [00:00<?, ?it/s]"
      ]
     },
     "metadata": {},
     "output_type": "display_data"
    }
   ],
   "source": [
    "jsons = process_map(get_JSON, urns, max_workers=10, chunksize=10)"
   ]
  }
 ],
 "metadata": {
  "kernelspec": {
   "display_name": "re-ocr-resource-RqHojbl_-py3.10",
   "language": "python",
   "name": "python3"
  },
  "language_info": {
   "codemirror_mode": {
    "name": "ipython",
    "version": 3
   },
   "file_extension": ".py",
   "mimetype": "text/x-python",
   "name": "python",
   "nbconvert_exporter": "python",
   "pygments_lexer": "ipython3",
   "version": "3.10.12"
  }
 },
 "nbformat": 4,
 "nbformat_minor": 2
}
