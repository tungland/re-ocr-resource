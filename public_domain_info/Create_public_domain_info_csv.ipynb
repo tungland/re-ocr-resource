{
 "cells": [
  {
   "cell_type": "code",
   "execution_count": 37,
   "metadata": {},
   "outputs": [],
   "source": [
    "import pandas as pd\n",
    "import numpy as np\n",
    "import json\n",
    "import os\n",
    "from re_ocr_resource.config import txt_files_path\n",
    "\n",
    "def load_json(x):\n",
    "    try:\n",
    "        return json.loads(x)\n",
    "    except:\n",
    "        return x\n",
    "    \n",
    "    \n",
    "books = txt_files_path.glob(\"*/\")\n",
    "\n",
    "urns = [\"URN:NBN:\" + os.path.basename(book) for book in books]"
   ]
  },
  {
   "cell_type": "code",
   "execution_count": 5,
   "metadata": {},
   "outputs": [
    {
     "data": {
      "text/plain": [
       "24259"
      ]
     },
     "execution_count": 5,
     "metadata": {},
     "output_type": "execute_result"
    }
   ],
   "source": [
    "len(urns)"
   ]
  },
  {
   "cell_type": "code",
   "execution_count": 46,
   "metadata": {},
   "outputs": [],
   "source": [
    "df = pd.read_csv(\"results.csv\", index_col=0)\n",
    "errors = df.loc[df.error.notna()]\n",
    "df = df.loc[df.error.isna()]"
   ]
  },
  {
   "cell_type": "code",
   "execution_count": 83,
   "metadata": {},
   "outputs": [
    {
     "data": {
      "text/plain": [
       "array(['Could not find urn URN:NBN:no-nb_digibok_2021042148873',\n",
       "       'Could not find urn URN:NBN:no-nb_digibok_2013050224022',\n",
       "       'Could not find urn URN:NBN:no-nb_digibok_2017032448026',\n",
       "       'Could not find urn URN:NBN:no-nb_digibok_2020113026009',\n",
       "       'Could not find urn URN:NBN:no-nb_digibok_2018062548005'],\n",
       "      dtype=object)"
      ]
     },
     "execution_count": 83,
     "metadata": {},
     "output_type": "execute_result"
    }
   ],
   "source": [
    "errors[\"error\"].values"
   ]
  },
  {
   "cell_type": "code",
   "execution_count": 11,
   "metadata": {},
   "outputs": [],
   "source": [
    "with open(file=\"urns_all_info.json\") as f:\n",
    "    urns_all_info = json.load(f)"
   ]
  },
  {
   "cell_type": "code",
   "execution_count": 57,
   "metadata": {},
   "outputs": [
    {
     "data": {
      "text/plain": [
       "{'id': 'URN:NBN:no-nb_digibok_2010020903013',\n",
       " 'accessInfo': {'accessAllowedFrom': 'EVERYWHERE',\n",
       "  'viewability': 'ALL',\n",
       "  'license': 'publicdomain',\n",
       "  'actions': ['download'],\n",
       "  'accessInfoLastModified': '2018-10-09T08:46:36.729Z',\n",
       "  'isDigital': True,\n",
       "  'isPublicDomain': True}}"
      ]
     },
     "execution_count": 57,
     "metadata": {},
     "output_type": "execute_result"
    }
   ],
   "source": [
    "urns_all_info[1]"
   ]
  },
  {
   "cell_type": "code",
   "execution_count": 65,
   "metadata": {},
   "outputs": [],
   "source": [
    "lst = []\n",
    "for row in urns_all_info:\n",
    "    if \"error\" in row:\n",
    "        continue\n",
    "    try:\n",
    "        dct = row[\"accessInfo\"]\n",
    "        urn = row[\"id\"]\n",
    "        pb = dct[\"isPublicDomain\"]\n",
    "    \n",
    "        lic = dct.get(\"license\", np.NAN)\n",
    "        actions = dct.get(\"actions\", np.NAN)\n",
    "        \n",
    "        lst.append({\"urn\": urn, \"public_domain\": pb, \"license\": lic, \"actions\": actions})\n",
    "    except:\n",
    "        print(row)"
   ]
  },
  {
   "cell_type": "code",
   "execution_count": 67,
   "metadata": {},
   "outputs": [],
   "source": [
    "df = pd.DataFrame(lst)"
   ]
  },
  {
   "cell_type": "code",
   "execution_count": 71,
   "metadata": {},
   "outputs": [
    {
     "data": {
      "text/plain": [
       "Index(['urn', 'public_domain', 'license', 'actions'], dtype='object')"
      ]
     },
     "execution_count": 71,
     "metadata": {},
     "output_type": "execute_result"
    }
   ],
   "source": [
    "df.columns"
   ]
  },
  {
   "cell_type": "code",
   "execution_count": 73,
   "metadata": {},
   "outputs": [
    {
     "data": {
      "text/plain": [
       "public_domain\n",
       "True     19060\n",
       "False     5194\n",
       "Name: count, dtype: int64"
      ]
     },
     "execution_count": 73,
     "metadata": {},
     "output_type": "execute_result"
    }
   ],
   "source": [
    "df.value_counts(\"public_domain\")"
   ]
  },
  {
   "cell_type": "code",
   "execution_count": 77,
   "metadata": {},
   "outputs": [
    {
     "data": {
      "text/plain": [
       "(public_domain\n",
       " True     19060\n",
       " False     5194\n",
       " Name: count, dtype: int64,\n",
       " license\n",
       " publicdomain    19060\n",
       " copyrighted      2876\n",
       " bokhylla         2273\n",
       " ccbyncnd           45\n",
       " Name: count, dtype: int64,\n",
       " actions\n",
       " [download]    20922\n",
       " NaN            3332\n",
       " Name: count, dtype: int64)"
      ]
     },
     "execution_count": 77,
     "metadata": {},
     "output_type": "execute_result"
    }
   ],
   "source": [
    "df.value_counts(\"public_domain\", dropna=False), df.license.value_counts(dropna=False), df.actions.value_counts(dropna=False)"
   ]
  },
  {
   "cell_type": "code",
   "execution_count": 80,
   "metadata": {},
   "outputs": [
    {
     "data": {
      "text/plain": [
       "license\n",
       "publicdomain    19060\n",
       "Name: count, dtype: int64"
      ]
     },
     "execution_count": 80,
     "metadata": {},
     "output_type": "execute_result"
    }
   ],
   "source": [
    "df.loc[df.public_domain == True].license.value_counts(dropna=False)"
   ]
  },
  {
   "cell_type": "code",
   "execution_count": 78,
   "metadata": {},
   "outputs": [],
   "source": [
    "df.to_csv(\"re_ocr_public_domain.csv\")"
   ]
  }
 ],
 "metadata": {
  "kernelspec": {
   "display_name": "re-ocr-resource-RqHojbl_-py3.10",
   "language": "python",
   "name": "python3"
  },
  "language_info": {
   "codemirror_mode": {
    "name": "ipython",
    "version": 3
   },
   "file_extension": ".py",
   "mimetype": "text/x-python",
   "name": "python",
   "nbconvert_exporter": "python",
   "pygments_lexer": "ipython3",
   "version": "3.10.12"
  }
 },
 "nbformat": 4,
 "nbformat_minor": 2
}
